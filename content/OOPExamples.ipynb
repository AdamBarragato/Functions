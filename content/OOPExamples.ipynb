{
  "metadata": {
    "kernelspec": {
      "name": "python",
      "display_name": "Python (Pyodide)",
      "language": "python"
    },
    "language_info": {
      "codemirror_mode": {
        "name": "python",
        "version": 3
      },
      "file_extension": ".py",
      "mimetype": "text/x-python",
      "name": "python",
      "nbconvert_exporter": "python",
      "pygments_lexer": "ipython3",
      "version": "3.8"
    }
  },
  "nbformat_minor": 4,
  "nbformat": 4,
  "cells": [
    {
      "cell_type": "markdown",
      "source": "# Module 3 Examples - Object-Oriented Programming",
      "metadata": {}
    },
    {
      "cell_type": "code",
      "source": "from IPython.core.interactiveshell import InteractiveShell\nInteractiveShell.ast_node_interactivity = \"all\"",
      "metadata": {
        "trusted": true
      },
      "outputs": [],
      "execution_count": null
    },
    {
      "cell_type": "code",
      "source": "class MyClass(): #create a class\n\tdef __init__(self, name): #initializes attributes of an instance of the class\n\t\tself.name = name\n\n\tdef introduce(self, otherName): #actions you can perform with an object of the class\n\t\treturn(f\"Hi {otherName}, I am {self.name}\")\n",
      "metadata": {
        "trusted": true
      },
      "outputs": [],
      "execution_count": null
    },
    {
      "cell_type": "code",
      "source": "MyClass() #creates an instance of MyClass, but this will fail because we don't specify values for the instance attributes",
      "metadata": {
        "trusted": true
      },
      "outputs": [],
      "execution_count": null
    },
    {
      "cell_type": "code",
      "source": "bob = MyClass(\"Bob\") #create an instance of the class with instance attributes\nbob.introduce(\"John\")",
      "metadata": {
        "trusted": true
      },
      "outputs": [],
      "execution_count": null
    },
    {
      "cell_type": "markdown",
      "source": "### Inheritance",
      "metadata": {}
    },
    {
      "cell_type": "code",
      "source": "class Mammal:#define a mammal class\n    has_hair=True #All instances of mammal (or its children) will have this same class attribute\n    def __init__(self, name, age):\n        self.name = name #all instances will also have name and age attributes, but the values will be unique to each instance\n        self.age = age\n\n    def speak(self, sound=\"Unknown\"):\n        return(f\"{sound}!\")\n\nclass Cat(Mammal):\n    def speak(self): #this will override the speak method in the parent class\n        print(\"Meow!\")\n\nclass Dog(Mammal): #putting (Mammal) signifies that dog should inherit from the Mammal class\n    def speak(self,sound=\"Woof\"): #an alternate method\n        return super().speak(sound) #this will look for the speak method in the parent class and call it with the sound variable we have defined.",
      "metadata": {
        "trusted": true
      },
      "outputs": [],
      "execution_count": null
    },
    {
      "cell_type": "markdown",
      "source": "Above, we used polymorphism to define separate speak methods for the Cat and Dog classes in different ways. Unless there is no overlap at all between how a method should look in the parent and child classes, it is best practice to inherit where you can, like in the Dog class",
      "metadata": {}
    },
    {
      "cell_type": "markdown",
      "source": "The code below will create two different instances of the Dog class and one instance of the Cat class, all of which inherit from the mammal class",
      "metadata": {}
    },
    {
      "cell_type": "code",
      "source": "fido = Dog(\"Fido\",2)\nsparky = Dog(\"Sparky\",6)\ntiger = Cat(\"Tiger\", 1)",
      "metadata": {
        "trusted": true
      },
      "outputs": [],
      "execution_count": null
    },
    {
      "cell_type": "markdown",
      "source": "Once instantiated, we can access the values of the instance with the syntax: `variableName.attributeName` and we can run methods with the syntax `variableName.methodName(<any required parameters>)`",
      "metadata": {}
    },
    {
      "cell_type": "code",
      "source": "fido.age\nsparky.speak() #note, you do not need to use the self parameter when you are calling a function that is part of a class, just when you are creating it\ntiger.speak()",
      "metadata": {
        "trusted": true
      },
      "outputs": [],
      "execution_count": null
    }
  ]
}
