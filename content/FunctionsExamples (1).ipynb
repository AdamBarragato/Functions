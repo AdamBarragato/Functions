{
  "metadata": {
    "kernelspec": {
      "name": "python",
      "display_name": "Python (Pyodide)",
      "language": "python"
    },
    "language_info": {
      "codemirror_mode": {
        "name": "python",
        "version": 3
      },
      "file_extension": ".py",
      "mimetype": "text/x-python",
      "name": "python",
      "nbconvert_exporter": "python",
      "pygments_lexer": "ipython3",
      "version": "3.8"
    }
  },
  "nbformat_minor": 4,
  "nbformat": 4,
  "cells": [
    {
      "cell_type": "markdown",
      "source": "# Module 3 Examples - Functions",
      "metadata": {}
    },
    {
      "cell_type": "code",
      "source": "from IPython.core.interactiveshell import InteractiveShell\nInteractiveShell.ast_node_interactivity = \"all\"",
      "metadata": {
        "trusted": true
      },
      "outputs": [],
      "execution_count": null
    },
    {
      "cell_type": "code",
      "source": "def hello(name):\n    return(f\"Hello {name}\")\n\nhello(\"Sarah\") #here, \"Sarah\" will become the value of the name variable",
      "metadata": {
        "trusted": true
      },
      "outputs": [],
      "execution_count": null
    },
    {
      "cell_type": "code",
      "source": "hello() #this statement will not work because it violates the contract that to call the hello function you need to provide a value for `name`",
      "metadata": {
        "trusted": true
      },
      "outputs": [],
      "execution_count": null
    },
    {
      "cell_type": "markdown",
      "source": "We can make a function more flexible by defining default values for parameters; if the caller does not specify a value for these, the default will be used.",
      "metadata": {}
    },
    {
      "cell_type": "code",
      "source": "def hello(name=\"world\"):\n    return(f\"Hello {name}\")\n\nhello() #This will print \"Hello world\"\nhello(\"Sarah\") #By providing a value, we can override the default",
      "metadata": {
        "trusted": true
      },
      "outputs": [],
      "execution_count": null
    },
    {
      "cell_type": "markdown",
      "source": "Functions can have multiple inputs and/or outputs",
      "metadata": {}
    },
    {
      "cell_type": "code",
      "source": "def email_address(username, domain=\"purdue.edu\"): # parameters without default values must come before those with defaults\n    return(username,f\"{username}@{domain}\")\n\nemail_address(\"john\")\nemail_address(\"john\", \"gmail.com\")",
      "metadata": {
        "trusted": true
      },
      "outputs": [],
      "execution_count": null
    },
    {
      "cell_type": "markdown",
      "source": "Example of good documentation",
      "metadata": {}
    },
    {
      "cell_type": "code",
      "source": "def split_and_randomize(df, num_chunks):\n    \"\"\"\n    Shuffles the order of the combined dataframe and splits into a specified number of chunks\n        :parameter:\n            df: Product information dataframe (created in scrape_product_details()\n            num_chunks: how many sets the dataframe should be split into\n        :return:\n            chunks: list of dataframes\n    \"\"\"\n    df = df.sample(frac=1) #shuffles the entire dataframe\n    chunks = np.array_split(df, num_chunks) #split into requested number of chunks\n    return chunks",
      "metadata": {
        "trusted": true
      },
      "outputs": [],
      "execution_count": null
    }
  ]
}